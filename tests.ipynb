{
 "cells": [
  {
   "cell_type": "code",
   "execution_count": 3,
   "id": "b18927c0",
   "metadata": {
    "ExecuteTime": {
     "end_time": "2022-04-13T14:00:18.917642Z",
     "start_time": "2022-04-13T14:00:03.813419Z"
    }
   },
   "outputs": [],
   "source": [
    "import numpy as np\n",
    "import tensorflow as tf\n",
    "import os"
   ]
  },
  {
   "cell_type": "code",
   "execution_count": 2,
   "id": "26b669ac",
   "metadata": {
    "ExecuteTime": {
     "end_time": "2022-04-13T14:08:27.980120Z",
     "start_time": "2022-04-13T14:08:27.963867Z"
    }
   },
   "outputs": [
    {
     "data": {
      "text/plain": "[PhysicalDevice(name='/physical_device:CPU:0', device_type='CPU'),\n PhysicalDevice(name='/physical_device:GPU:0', device_type='GPU')]"
     },
     "execution_count": 2,
     "metadata": {},
     "output_type": "execute_result"
    }
   ],
   "source": [
    "tf.config.list_physical_devices()"
   ]
  },
  {
   "cell_type": "code",
   "execution_count": null,
   "outputs": [],
   "source": [],
   "metadata": {
    "collapsed": false,
    "pycharm": {
     "name": "#%%\n"
    }
   }
  },
  {
   "cell_type": "code",
   "execution_count": 7,
   "id": "bb90aac3",
   "metadata": {
    "ExecuteTime": {
     "end_time": "2022-04-13T14:01:56.266859Z",
     "start_time": "2022-04-13T14:00:47.197810Z"
    }
   },
   "outputs": [],
   "source": [
    "data_path = os.path.join('data')\n",
    "file_name = 'beatles.txt'\n",
    "file_path = os.path.join(data_path, file_name)"
   ]
  },
  {
   "cell_type": "code",
   "execution_count": 29,
   "outputs": [],
   "source": [
    "t = np.genfromtxt(file_path, dtype='str', delimiter='\\n', max_rows=None).tolist()\n",
    "raw_data = ' '.join(t)\n"
   ],
   "metadata": {
    "collapsed": false,
    "pycharm": {
     "name": "#%%\n"
    }
   }
  },
  {
   "cell_type": "code",
   "execution_count": 35,
   "outputs": [
    {
     "name": "stdout",
     "output_type": "stream",
     "text": [
      "a day in the life i read the news today oh boy about a lucky man who made the grade and though the news was rather sad well i just had to laugh i saw the photograph he blew his mind out in a car he didnt notice that the lights had changed a crowd of people stood and stared theyd seen his face before nobody was really sure if he was from the house of lords i saw a film today oh boy the english army had just won the war a crowd of people turned away but i just had to look having read the book id love to turn you on woke up fell out of bed dragged a comb across my head found my way downstairs and drank a cup and looking up i noticed i was late found my coat and grabbed my hat made the bus in seconds flat found my way upstairs and had a smoke somebody spoke and i went into a dream i read the news today oh boy four thousand holes in blackburn lancashire and though the holes were rather small they had to count them all now they know how many holes it takes to fill the albert hall id love to turn you on a hard days night its been a hard das night and i been working like a dog its been a hard days night i should be sleeping like a log but when i get home to you ill find the things that you\n"
     ]
    }
   ],
   "source": [
    "import re\n",
    "pattern = re.compile(r'[^a-z0-9 ]+')\n",
    "clean_data = pattern.sub('', raw_data.lower())\n",
    "print(clean_data[:1200])"
   ],
   "metadata": {
    "collapsed": false,
    "pycharm": {
     "name": "#%%\n"
    }
   }
  },
  {
   "cell_type": "markdown",
   "source": [],
   "metadata": {
    "collapsed": false,
    "pycharm": {
     "name": "#%% md\n"
    }
   }
  },
  {
   "cell_type": "code",
   "execution_count": 44,
   "outputs": [
    {
     "name": "stdout",
     "output_type": "stream",
     "text": [
      "['a day in the life i ', ' in the life i read ', 'he life i read the n', 'fe i read the news t', 'read the news today ', 'the news today oh bo', 'ews today oh boy abo', 'oday oh boy about a ', 'oh boy about a lucky', 'y about a lucky man ']\n"
     ]
    }
   ],
   "source": [
    "window_size = 20\n",
    "stride = 5\n",
    "letters_lst = list(clean_data)\n",
    "tokenized_lst = []\n",
    "for letter in range(0, len(letters_lst) - window_size + 1, stride):\n",
    "    tokenized_lst.append(''.join(letters_lst[letter:letter + window_size]))\n",
    "tokenized_data = np.array(tokenized_lst)\n",
    "print(tokenized_lst[:10])"
   ],
   "metadata": {
    "collapsed": false,
    "pycharm": {
     "name": "#%%\n"
    }
   }
  },
  {
   "cell_type": "code",
   "execution_count": 48,
   "outputs": [
    {
     "name": "stdout",
     "output_type": "stream",
     "text": [
      "[10, 22, 30, 10, 31, 22, 19, 3, 22, 20]\n",
      "['a', ' ', 'd', 'a', 'y', ' ', 'i', 'n', ' ', 't']\n"
     ]
    }
   ],
   "source": [
    "vocabulary = set(clean_data)\n",
    "dictionary = {letter: i for i, letter in enumerate(vocabulary)}\n",
    "inv_dictionary = {v: k for k, v in dictionary.items()}\n",
    "letters_lst = list(clean_data)\n",
    "encoded_lst = list(map(lambda x: dictionary[x], letters_lst))\n",
    "print(encoded_lst[:10])\n",
    "decoded_lst = list(map(lambda x: inv_dictionary[x], encoded_lst))\n",
    "print(decoded_lst[:10])"
   ],
   "metadata": {
    "collapsed": false,
    "pycharm": {
     "name": "#%%\n"
    }
   }
  },
  {
   "cell_type": "code",
   "execution_count": 49,
   "outputs": [
    {
     "data": {
      "text/plain": "10"
     },
     "execution_count": 49,
     "metadata": {},
     "output_type": "execute_result"
    }
   ],
   "source": [
    "dictionary['a']"
   ],
   "metadata": {
    "collapsed": false,
    "pycharm": {
     "name": "#%%\n"
    }
   }
  },
  {
   "cell_type": "code",
   "execution_count": null,
   "outputs": [],
   "source": [],
   "metadata": {
    "collapsed": false,
    "pycharm": {
     "name": "#%%\n"
    }
   }
  }
 ],
 "metadata": {
  "kernelspec": {
   "display_name": "Python 3 (ipykernel)",
   "language": "python",
   "name": "python3"
  },
  "language_info": {
   "codemirror_mode": {
    "name": "ipython",
    "version": 3
   },
   "file_extension": ".py",
   "mimetype": "text/x-python",
   "name": "python",
   "nbconvert_exporter": "python",
   "pygments_lexer": "ipython3",
   "version": "3.9.12"
  },
  "toc": {
   "base_numbering": 1,
   "nav_menu": {},
   "number_sections": true,
   "sideBar": true,
   "skip_h1_title": false,
   "title_cell": "Table of Contents",
   "title_sidebar": "Contents",
   "toc_cell": false,
   "toc_position": {},
   "toc_section_display": true,
   "toc_window_display": false
  }
 },
 "nbformat": 4,
 "nbformat_minor": 5
}